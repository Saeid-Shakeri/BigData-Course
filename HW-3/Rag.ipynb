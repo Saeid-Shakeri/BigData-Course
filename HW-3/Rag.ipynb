{
 "cells": [
  {
   "cell_type": "code",
   "execution_count": null,
   "id": "1593df11-e558-4da8-a13e-6e589fbef635",
   "metadata": {},
   "outputs": [],
   "source": [
    "!pip install langchain sentence-transformers faiss-cpu pdfplumber langchain-community langchain-ollama"
   ]
  },
  {
   "cell_type": "code",
   "execution_count": null,
   "id": "4e341a1c-9134-44a2-bddc-354ba6714319",
   "metadata": {},
   "outputs": [],
   "source": [
    "from google.colab import drive\n",
    "drive.mount('/content/drive')"
   ]
  },
  {
   "cell_type": "code",
   "execution_count": null,
   "id": "93fd3fab-1929-4ce1-af02-e8e26dae0afe",
   "metadata": {},
   "outputs": [],
   "source": [
    "import pdfplumber\n",
    "from sentence_transformers import SentenceTransformer\n",
    "from langchain_community.vectorstores import FAISS\n",
    "from langchain.embeddings import HuggingFaceEmbeddings\n",
    "from langchain_community.document_loaders import TextLoader\n",
    "from langchain.text_splitter import RecursiveCharacterTextSplitter\n",
    "from langchain.chains import RetrievalQA\n",
    "from langchain_ollama.llms import OllamaLLM\n",
    "from langchain_core.prompts import ChatPromptTemplate\n",
    "from langchain.docstore.document import Document\n",
    "\n",
    "\n",
    "def extract_text_from_pdf(pdf_path):\n",
    "    text = \"\"\n",
    "    with pdfplumber.open(pdf_path) as pdf:\n",
    "        for page in pdf.pages:\n",
    "            page_text = page.extract_text()\n",
    "            if page_text:\n",
    "                text += page_text + \"\\n\"\n",
    "    return text\n",
    "\n",
    "\n",
    "def split_into_documents(text, chunk_size=500, overlap=100):\n",
    "    splitter = RecursiveCharacterTextSplitter(chunk_size=chunk_size, chunk_overlap=overlap)\n",
    "    docs = splitter.split_documents([Document(page_content=text)])\n",
    "    return docs\n",
    "\n",
    "\n",
    "def build_faiss_index(docs):\n",
    "    embedder = HuggingFaceEmbeddings(model_name=\"all-MiniLM-L6-v2\")\n",
    "    vectorstore = FAISS.from_documents(docs, embedding=embedder)\n",
    "    return vectorstore\n",
    "\n",
    "\n",
    "def create_rag_chain(vectorstore):\n",
    "    retriever = vectorstore.as_retriever(search_type=\"similarity\", search_kwargs={\"k\": 3})\n",
    "\n",
    "    prompt_template = \"\"\"Context:\n",
    "{context}\n",
    "\n",
    "Question:\n",
    "{question}\n",
    "\n",
    "Answer:\"\"\"\n",
    "\n",
    "    prompt = ChatPromptTemplate.from_template(prompt_template)\n",
    "\n",
    "    model = OllamaLLM(model=\"mistral\")\n",
    "\n",
    "    rag_chain = RetrievalQA.from_chain_type(\n",
    "        llm=model,\n",
    "        chain_type=\"stuff\",\n",
    "        retriever=retriever,\n",
    "        chain_type_kwargs={\"prompt\": prompt}\n",
    "    )\n",
    "    return rag_chain"
   ]
  },
  {
   "cell_type": "code",
   "execution_count": null,
   "id": "dd623d2d",
   "metadata": {},
   "outputs": [],
   "source": [
    "\n",
    "pdf_path = \"/content/drive/MyDrive/rag-exercise/Human-Nutrition-2020-Edition.pdf\"\n",
    "\n",
    "import logging\n",
    "logging.getLogger(\"pdfminer\").setLevel(logging.ERROR)\n",
    "\n",
    "text = extract_text_from_pdf(pdf_path)\n",
    "docs = split_into_documents(text)\n",
    "vectorstore = build_faiss_index(docs)\n",
    "rag_chain = create_rag_chain(vectorstore)\n",
    "# print(type(rag_chain))\n",
    "\n",
    "\n",
    "question = \"Can you explain the topic of potassium imbalances as discussed in this content?\"\n",
    "response = rag_chain.run(question)\n",
    "print(\"Answer: \", response)\n"
   ]
  }
 ],
 "metadata": {
  "kernelspec": {
   "display_name": "Python 3 (ipykernel)",
   "language": "python",
   "name": "python3"
  },
  "language_info": {
   "codemirror_mode": {
    "name": "ipython",
    "version": 3
   },
   "file_extension": ".py",
   "mimetype": "text/x-python",
   "name": "python",
   "nbconvert_exporter": "python",
   "pygments_lexer": "ipython3",
   "version": "3.13.2"
  }
 },
 "nbformat": 4,
 "nbformat_minor": 5
}
